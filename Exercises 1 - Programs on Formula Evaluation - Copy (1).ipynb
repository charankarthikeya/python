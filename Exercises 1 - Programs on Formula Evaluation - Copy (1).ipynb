{
 "cells": [
  {
   "cell_type": "markdown",
   "id": "5fbe572a",
   "metadata": {},
   "source": [
    "# Programs on Formula Evaluation"
   ]
  },
  {
   "cell_type": "markdown",
   "id": "fe37fb41",
   "metadata": {},
   "source": [
    "## Exercise 1\n",
    "\n",
    "**Print the results of all arithmetic operations on two given numbers.**  \n",
    "\n",
    "**Sample I/O**  \n",
    "\n",
    "***Input1:***  \n",
    "10  \n",
    "3<br>***Output1:***  \n",
    "Sum of 10 and 3 is: 13  \n",
    "Difference between 10 and 3 is: 7  \n",
    "Product of 10 and 3 is: 30  \n",
    "Actual Quotient when 10 is divided by 3 is: 3.3333333  \n",
    "Floored Quotient when 10 is divided by 3 is: 3  \n",
    "Remainder when 10 is divided by 3 is: 1  \n",
    "10 to the power of 3 is: 1000  \n",
    "\n",
    "\n",
    "***Input2:***  \n",
    "15  \n",
    "4<br>***Output2:***  \n",
    "Sum of 15 and 4 is: 19  \n",
    "Difference between 15 and 4 is: 11  \n",
    "Product of 15 and 4 is: 60  \n",
    "Actual Quotient when 15 is divided by 4 is: 3.75  \n",
    "Floored Quotient when 15 is divided by 4 is: 3  \n",
    "Remainder when 15 is divided by 4 is: 3  \n",
    "15 to the power of 4 is: 50625   \n"
   ]
  },
  {
   "cell_type": "code",
   "execution_count": 3,
   "id": "e7aaec6d",
   "metadata": {},
   "outputs": [
    {
     "name": "stdout",
     "output_type": "stream",
     "text": [
      "15\n",
      "4\n",
      "Sum of 15 and 4 is:19\n",
      "Diffence between 15 and 4 is:11\n",
      "Product of15 and 4is:60\n",
      "Actual Quotient when 15 is devided by 4 is:3.75\n",
      "Floored Quotient when 15 is devided by 4 is:3\n",
      "Remainder when 15 is devided by 4 is:3\n",
      "15 to the power of the 4 is:50625\n"
     ]
    }
   ],
   "source": [
    "# Write your code here\n",
    "a = int(input())\n",
    "b = int(input())\n",
    "c = a+b\n",
    "print(f\"Sum of {a} and {b} is:{c}\")\n",
    "d = a-b\n",
    "print(f\"Diffence between {a} and {b} is:{d}\")\n",
    "e = a*b\n",
    "print(f\"Product of{a} and {b}is:{e}\")\n",
    "f = a/b\n",
    "print(f\"Actual Quotient when {a} is devided by {b} is:{f}\")\n",
    "g = a//b\n",
    "print(f\"Floored Quotient when {a} is devided by {b} is:{g}\")\n",
    "h = a%b\n",
    "print(f\"Remainder when {a} is devided by {b} is:{h}\")\n",
    "i = a**4\n",
    "print(f\"{a} to the power of the {b} is:{i}\")\n",
    "      \n",
    "      \n",
    "      \n",
    "      \n",
    "      \n",
    "      \n",
    "      \n",
    "      \n"
   ]
  },
  {
   "cell_type": "markdown",
   "id": "7ce7707f",
   "metadata": {},
   "source": [
    "## Exercise 2\n",
    "\n",
    "**Find out the *area* and *perimeter* of a  square.**  \n",
    "\n",
    "To find out *area* and *perimeter* of a square we need *side length* of that square  \n",
    "\n",
    "**Sample I/O**  \n",
    "\n",
    "***Input1:***  \n",
    "10  \n",
    "***Output1:***  \n",
    "Area of a square with side value 10 is 100  \n",
    "Perimeter of a square with side value 10 is 40  \n",
    "\n",
    "\n",
    "***Input2:***  \n",
    "7<br>***Output2:***  \n",
    "Area of a square with side value 7 is 49  \n",
    "Perimeter of a square with side value 7 is 28  \n"
   ]
  },
  {
   "cell_type": "code",
   "execution_count": 8,
   "id": "35700c5f",
   "metadata": {},
   "outputs": [
    {
     "name": "stdout",
     "output_type": "stream",
     "text": [
      "10\n",
      "Area of a square with side value10 is 100\n",
      "Perameter of a sqaure with side value 10 is 40 \n"
     ]
    }
   ],
   "source": [
    "# Write your code here\n",
    "a = int(input())\n",
    "b = a**2\n",
    "print(f\"Area of a square with side value{a} is {b}\")\n",
    "c = 4*a\n",
    "print(f\"Perameter of a sqaure with side value {a} is {c} \")"
   ]
  },
  {
   "cell_type": "markdown",
   "id": "eea3532d",
   "metadata": {},
   "source": [
    "## Exercise 3\n",
    "\n",
    "**Find out the *area* and *perimeter* of a  rectangle.**  \n",
    "\n",
    "To find out *area* and *perimeter* of a rectangle we need *length* and *breadth* of that rectangle  \n",
    "\n",
    "**Sample I/O**  \n",
    "\n",
    "***Input1:***  \n",
    "3<br>\n",
    "4<br>\n",
    "***Output1:***  \n",
    "Area of a rectangle with length 3 and breadth 4 is: 12  \n",
    "Perimeter of a rectangle with length 3 and breadth 4 is: 14  \n",
    "\n",
    "\n",
    "***Input2:***  \n",
    "15  \n",
    "18  \n",
    "***Output2:***  \n",
    "Area of a rectangle with length 15 and breadth 18 is: 270  \n",
    "Perimeter of a rectangle with length 15 and breadth 18 is: 66   \n"
   ]
  },
  {
   "cell_type": "code",
   "execution_count": 12,
   "id": "173ef358",
   "metadata": {},
   "outputs": [
    {
     "name": "stdout",
     "output_type": "stream",
     "text": [
      "15\n",
      "18\n",
      "area of a rectangle with the length 15 and bredth 18 is:270 \n",
      "perameter of a rectangle with length 15 and bredth 18 is:66\n"
     ]
    }
   ],
   "source": [
    "# Write your code here\n",
    "a = int(input())\n",
    "b = int(input())\n",
    "c = a*b\n",
    "print(f\"area of a rectangle with the length {a} and bredth {b} is:{c} \")\n",
    "d = 2*(a+b)\n",
    "print(f\"perameter of a rectangle with length {a} and bredth {b} is:{d}\")"
   ]
  },
  {
   "cell_type": "markdown",
   "id": "6f2fffec",
   "metadata": {},
   "source": [
    "## Exercise 4\n",
    "\n",
    "**Find out the *sum of first n natural numbers.***  \n",
    "\n",
    "**Example:**  \n",
    "If n value is 5, then first 5 natural numbers are 1, 2, 3, 4, 5  \n",
    "and their sum 1 + 2 + 3 + 4 + 5 is 15.\n",
    "\n",
    "\n",
    "**Sample I/O**  \n",
    "\n",
    "***Input1:***  \n",
    "10  \n",
    "***Output1:***  \n",
    "Sum of first 10 natural numbers is: 55\n",
    "\n",
    "***Input2:***  \n",
    "223  \n",
    "***Output2:***  \n",
    "Sum of first 223 natural numbers is: 24976\n"
   ]
  },
  {
   "cell_type": "code",
   "execution_count": 16,
   "id": "35fc7d5c",
   "metadata": {},
   "outputs": [
    {
     "name": "stdout",
     "output_type": "stream",
     "text": [
      "10\n",
      "sum of 10 natural numbers is:55\n"
     ]
    }
   ],
   "source": [
    "# Write your code here\n",
    "a = int(input())\n",
    "b = a*(a+1)//2\n",
    "print(f\"sum of {a} natural numbers is:{b}\")\n"
   ]
  },
  {
   "cell_type": "markdown",
   "id": "fd07a94a",
   "metadata": {},
   "source": [
    "## Exercise 5\n",
    "\n",
    "**Find out the *sum of first n EVEN natural numbers.***  \n",
    "\n",
    "**Example:**  \n",
    "If n value is 5, then first 5 even natural numbers are 2, 4, 6, 8, 10  \n",
    "and their sum 2 + 4 + 6 + 8 + 10 is 30.\n",
    "\n",
    "\n",
    "**Sample I/O**  \n",
    "\n",
    "***Input1:***  \n",
    "10  \n",
    "***Output1:***  \n",
    "Sum of first 10 even natural numbers is: 110\n",
    "\n",
    "***Input2:***  \n",
    "223  \n",
    "***Output2:***  \n",
    "Sum of first 223 even natural numbers is: 49952\n"
   ]
  },
  {
   "cell_type": "code",
   "execution_count": 18,
   "id": "ddb92332",
   "metadata": {},
   "outputs": [
    {
     "name": "stdout",
     "output_type": "stream",
     "text": [
      "10\n",
      "sum of first 10 even natural numbers is:110\n"
     ]
    }
   ],
   "source": [
    "# Write your code here\n",
    "n = int(input())\n",
    "c = n*(n+1)\n",
    "print(f\"sum of first {n} even natural numbers is:{c}\")\n"
   ]
  },
  {
   "cell_type": "markdown",
   "id": "dc530e79",
   "metadata": {},
   "source": [
    "## Exercise 6\n",
    "\n",
    "**Find out the *sum of first n ODD natural numbers.***  \n",
    "\n",
    "**Example:**  \n",
    "If n value is 5, then first 5 odd natural numbers are 1, 3, 5, 7, 9  \n",
    "and their sum 1 + 3 + 5 + 7 + 9 is 25.\n",
    "\n",
    "\n",
    "**Sample I/O**  \n",
    "\n",
    "***Input1:***  \n",
    "10  \n",
    "***Output1:***  \n",
    "Sum of first 10 odd natural numbers is: 100\n",
    "\n",
    "***Input2:***  \n",
    "223  \n",
    "***Output2:***  \n",
    "Sum of first 223 odd natural numbers is: 49729\n"
   ]
  },
  {
   "cell_type": "code",
   "execution_count": 45,
   "id": "60753a94",
   "metadata": {},
   "outputs": [
    {
     "name": "stdout",
     "output_type": "stream",
     "text": [
      "223\n",
      "sum of first 223 odd natural numbers is:49729\n"
     ]
    }
   ],
   "source": [
    "# Write your code here\n",
    "n = int(input())\n",
    "c = n**2\n",
    "print(f\"sum of first {n} odd natural numbers is:{c}\")\n"
   ]
  },
  {
   "cell_type": "markdown",
   "id": "7e994123",
   "metadata": {},
   "source": [
    "## Exercise 7\n",
    "\n",
    "**Find out the *Sum of the following sums***\n",
    "- First n natural numbers\n",
    "- First n even natural numbers\n",
    "- First n odd natural numbers\n",
    "\n",
    "**Example:**  \n",
    "If n value is 5, then  \n",
    "* First 5 natural numbers are 1, 2, 3, 4, 5 and thier sum 1 + 2 + 3 + 4 + 5 is 15  \n",
    "* First 5 even natural numbers are 2, 4, 6, 8, 10 and their sum 2 + 4 + 6 + 8 + 10 is 30  \n",
    "* First 5 odd natural numbers are 1, 3, 5, 7, 9 and their sum 1 + 3 + 5 + 7 + 9 is 25\n",
    "\n",
    "Now ***the sum of above three sums 15 + 30 + 25 is: 70***\n",
    "\n",
    "\n",
    "**Sample I/O**  \n",
    "\n",
    "***Input1:***  \n",
    "10  \n",
    "***Output1:***  \n",
    "Sum of sums is: 265\n",
    "\n",
    "***Input2:***  \n",
    "223  \n",
    "***Output2:***  \n",
    "Sum of sums is: 124657\n"
   ]
  },
  {
   "cell_type": "code",
   "execution_count": 51,
   "id": "8e3b8447",
   "metadata": {},
   "outputs": [
    {
     "name": "stdout",
     "output_type": "stream",
     "text": [
      "10\n",
      "sum of sums is:265\n"
     ]
    }
   ],
   "source": [
    "# Write your code here\n",
    "n = int(input())\n",
    "c = n*(n+1)//2\n",
    "a = n*(n+1)\n",
    "b = n**2\n",
    "d = c+a+b\n",
    "print(f\"sum of sums is:{d}\")"
   ]
  },
  {
   "cell_type": "markdown",
   "id": "8d2a0bfb",
   "metadata": {},
   "source": [
    "## Exercise 8\n",
    "\n",
    "**Find out the *product of the last digits of the given four positive integers.***\n",
    "\n",
    "**Example:**  \n",
    "If four positive integers 123, 456, 789, 567 are given, then\n",
    "* Last digit of 123 --> 3\n",
    "* Last digit of 456 --> 6\n",
    "* Last digit of 789 --> 9\n",
    "* Last digit of 567 --> 7\n",
    "\n",
    "**and the product of them is 3 x 6 x 9 x 7 = 1134**\n",
    "\n",
    "**Sample I/O**  \n",
    "\n",
    "***Input1:***  \n",
    "101  \n",
    "123  \n",
    "14567  \n",
    "12  \n",
    "***Output1:***  \n",
    "Product of 1, 3, 7 and 2 is: 44\n",
    "\n",
    "***Input2:***  \n",
    "1<br>11  \n",
    "21  \n",
    "31  \n",
    "***Output2:***  \n",
    "Product of 1, 1, 1 and 1 is: 1\n"
   ]
  },
  {
   "cell_type": "code",
   "execution_count": 58,
   "id": "6c6a6f90",
   "metadata": {},
   "outputs": [
    {
     "name": "stdout",
     "output_type": "stream",
     "text": [
      "1\n",
      "11\n",
      "21\n",
      "31\n",
      "product of 1,1,1 and 1 is:1\n"
     ]
    }
   ],
   "source": [
    "# Write your code here\n",
    "a = int(input())\n",
    "b = int(input())\n",
    "c = int(input())\n",
    "d = int(input())\n",
    "e = a%10\n",
    "f = b%10\n",
    "g = c%10\n",
    "h = d%10\n",
    "mental = e*f*g*h\n",
    "print(f\"product of {e},{f},{g} and {h} is:{mental}\")"
   ]
  },
  {
   "cell_type": "markdown",
   "id": "36767346",
   "metadata": {},
   "source": [
    "## Exercise 9\n",
    "\n",
    "**Find out the *SIMPLE INTEREST***  \n",
    "\n",
    "You'll be given the following values\n",
    "* Principal Amount (P)\n",
    "* Time (in years) (T)\n",
    "* Rate of interest (R)\n",
    "\n",
    "**You have to calculate the *SIMPLE INTEREST* on *P* for *T* years at *R* interest rate per annum.** \n",
    "\n",
    "**Example:**  \n",
    "if  \n",
    "**P** --> 10000  \n",
    "**T** --> 2  \n",
    "**R** --> 7.0  \n",
    "Then ***SIMPLE INTEREST IS 1400.00***\n",
    "\n",
    "**Note:** \n",
    "- You have to take R value as float because sometimes the interest rate can be in point values.\n",
    "- You also have to adjust the output to 2 decimal places after point.\n",
    "\n",
    "**Sample I/O**  \n",
    "\n",
    "***Input1:***  \n",
    "12344  \n",
    "13  \n",
    "7.9  \n",
    "***Output1:***  \n",
    "Simple Interest on an Amount of 12344 for 13 years at 7.9 percent per annum is: 12677.29\n",
    "\n",
    "***Input2:***  \n",
    "1000    \n",
    "35  \n",
    "8.3  \n",
    "***Output2:***  \n",
    "Simple Interest on an Amount of 1000 for 35 years at 8.3 percent per annum is: 2905.00\n"
   ]
  },
  {
   "cell_type": "code",
   "execution_count": 74,
   "id": "fc91229b",
   "metadata": {},
   "outputs": [
    {
     "name": "stdout",
     "output_type": "stream",
     "text": [
      "12344\n",
      "13\n",
      "7.9\n",
      "simple interest on a amount of 12344 for 13 years at 7.9 percent per annum is:12677.288\n"
     ]
    }
   ],
   "source": [
    "# Write your code here\n",
    "a = int(input())\n",
    "b = int(input())\n",
    "c = float(input())\n",
    "e = a*b*c/100\n",
    "print(f\"simple interest on a amount of {a} for {b} years at {c} percent per annum is:{e}\")"
   ]
  },
  {
   "cell_type": "markdown",
   "id": "a2ceeab1",
   "metadata": {},
   "source": [
    "## Exercise 10\n",
    "\n",
    "**Find out the *area* of a circle.**  \n",
    "\n",
    "To find out *area* of a circle we should have the radius of that circle *r* with us. \n",
    "\n",
    "***Note:***  \n",
    "* You can use 3.14 as **pi($\\pi$)** value\n",
    "* Also adjust the output to 2 decimal places after point value\n",
    "\n",
    "**Sample I/O**  \n",
    "\n",
    "***Input1:***  \n",
    "5<br>***Output1:***  \n",
    "Area of a circle with radius 5 is: 78.50\n",
    "\n",
    "\n",
    "***Input2:***  \n",
    "35  \n",
    "***Output2:***  \n",
    "Area of a circle with radius 35 is: 3846.50\n"
   ]
  },
  {
   "cell_type": "code",
   "execution_count": 77,
   "id": "2f1aef75",
   "metadata": {},
   "outputs": [
    {
     "name": "stdout",
     "output_type": "stream",
     "text": [
      "5\n",
      "area of a circle whith radius 5 is:78.5\n"
     ]
    }
   ],
   "source": [
    "# Write your code here\n",
    "a = int(input())\n",
    "b = 3.14*a**2\n",
    "print(f\"area of a circle whith radius {a} is:{b}\")\n"
   ]
  }
 ],
 "metadata": {
  "_draft": {
   "nbviewer_url": "https://gist.github.com/c52110472e3e131a2fa8b13a3a1f84b8"
  },
  "gist": {
   "data": {
    "description": "Exercises 1 - Programs on Formula Evaluation - Copy.ipynb",
    "public": false
   },
   "id": "c52110472e3e131a2fa8b13a3a1f84b8"
  },
  "kernelspec": {
   "display_name": "Python 3 (ipykernel)",
   "language": "python",
   "name": "python3"
  },
  "language_info": {
   "codemirror_mode": {
    "name": "ipython",
    "version": 3
   },
   "file_extension": ".py",
   "mimetype": "text/x-python",
   "name": "python",
   "nbconvert_exporter": "python",
   "pygments_lexer": "ipython3",
   "version": "3.9.12"
  },
  "latex_envs": {
   "LaTeX_envs_menu_present": true,
   "autoclose": false,
   "autocomplete": true,
   "bibliofile": "biblio.bib",
   "cite_by": "apalike",
   "current_citInitial": 1,
   "eqLabelWithNumbers": true,
   "eqNumInitial": 1,
   "hotkeys": {
    "equation": "Ctrl-E",
    "itemize": "Ctrl-I"
   },
   "labels_anchors": false,
   "latex_user_defs": false,
   "report_style_numbering": false,
   "user_envs_cfg": false
  },
  "toc": {
   "base_numbering": 1,
   "nav_menu": {},
   "number_sections": true,
   "sideBar": true,
   "skip_h1_title": false,
   "title_cell": "Table of Contents",
   "title_sidebar": "Contents",
   "toc_cell": false,
   "toc_position": {},
   "toc_section_display": true,
   "toc_window_display": false
  }
 },
 "nbformat": 4,
 "nbformat_minor": 5
}
